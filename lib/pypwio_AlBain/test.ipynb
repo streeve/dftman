{
 "cells": [
  {
   "cell_type": "code",
   "execution_count": null,
   "metadata": {},
   "outputs": [],
   "source": [
    "import qgrid\n",
    "from pymatgen import Structure\n",
    "from SubmitJob import SubmitJob\n",
    "from dftman_utils import *\n",
    "qgrid.enable()\n",
    "MP_API_KEY = '0WqdPfXxloze6T9N'\n",
    "db = init_db()"
   ]
  },
  {
   "cell_type": "code",
   "execution_count": null,
   "metadata": {},
   "outputs": [],
   "source": [
    "criteria = {\n",
    "    'elements': 'Al',\n",
    "    'nsites': 1,\n",
    "    'spacegroup.number': 225,\n",
    "}\n",
    "properties = []\n",
    "m = mpquery_helper(criteria, properties, MP_API_KEY)\n",
    "m.query()\n",
    "m.display()"
   ]
  },
  {
   "cell_type": "code",
   "execution_count": null,
   "metadata": {},
   "outputs": [],
   "source": [
    "inputs = {\n",
    "    'structure': structure,\n",
    "\n",
    "    'control': {\n",
    "        'calculation': 'scf',\n",
    "        'verbosity': 'high',\n",
    "        'disk_io': 'none',\n",
    "    },\n",
    "    'system': {\n",
    "        'ibrav': 0,\n",
    "        'ecutwfc': 30.0,\n",
    "        'occupations': 'smearing',\n",
    "        'degauss': 0.01,\n",
    "        'smearing': 'mv',\n",
    "    },\n",
    "    'electrons': {\n",
    "        'electron_maxstep': 500,\n",
    "        'conv_thr': 1.0e-5,\n",
    "    },\n",
    "    'ions': {},\n",
    "    'cell': {},\n",
    "    'kpoints_mode': 'automatic',\n",
    "    'kpoints_grid': (10, 10, 10),\n",
    "    'kpoints_shift': (0, 0, 0),\n",
    "\n",
    "    'pseudo': pseudo_helper(structure, 'GBRV_US_LDA',\n",
    "                            '/data/tools/shared/dftman/pseudo_table.json')\n",
    "}"
   ]
  },
  {
   "cell_type": "code",
   "execution_count": null,
   "metadata": {},
   "outputs": [],
   "source": [
    "true_pseudo = pseudo_helper(structure, 'GBRV_US_LDA',\n",
    "                            '/data/tools/shared/dftman/pseudo_table.json')\n",
    "calculation = pwcalculation_helper(**inputs, additional_inputs=list(true_pseudo.values()))\n",
    "job = SubmitJob(calculation, 'espresso-6.2.1_pw')\n",
    "key = db_store(job, db)"
   ]
  },
  {
   "cell_type": "code",
   "execution_count": null,
   "metadata": {
    "scrolled": true
   },
   "outputs": [],
   "source": [
    "for i in db.SubmitJobs.values():\n",
    "    if i.status != 'Complete':\n",
    "        print(i.key, i.check_status())"
   ]
  },
  {
   "cell_type": "code",
   "execution_count": null,
   "metadata": {},
   "outputs": [],
   "source": [
    "submit_status()"
   ]
  },
  {
   "cell_type": "code",
   "execution_count": 6,
   "metadata": {},
   "outputs": [
    {
     "data": {
      "text/plain": [
       "[0, 1, 2, 3, 4, 5]"
      ]
     },
     "execution_count": 6,
     "metadata": {},
     "output_type": "execute_result"
    }
   ],
   "source": [
    "[0, 1, 2, 3, 4, 5, 6, 7, 8][:6]"
   ]
  },
  {
   "cell_type": "code",
   "execution_count": 7,
   "metadata": {},
   "outputs": [
    {
     "data": {
      "text/plain": [
       "'123456'"
      ]
     },
     "execution_count": 7,
     "metadata": {},
     "output_type": "execute_result"
    }
   ],
   "source": [
    "'123456789'[:6]"
   ]
  },
  {
   "cell_type": "code",
   "execution_count": null,
   "metadata": {},
   "outputs": [],
   "source": []
  }
 ],
 "metadata": {
  "kernelspec": {
   "display_name": "Python 3",
   "language": "python",
   "name": "python3"
  },
  "language_info": {
   "codemirror_mode": {
    "name": "ipython",
    "version": 3
   },
   "file_extension": ".py",
   "mimetype": "text/x-python",
   "name": "python",
   "nbconvert_exporter": "python",
   "pygments_lexer": "ipython3",
   "version": "3.6.5"
  }
 },
 "nbformat": 4,
 "nbformat_minor": 2
}
