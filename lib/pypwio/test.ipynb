{
 "cells": [
  {
   "cell_type": "code",
   "execution_count": 3,
   "metadata": {},
   "outputs": [],
   "source": [
    "import tinydb\n",
    "\n",
    "from pymatgen.io.pwscf import PWInput\n",
    "\n",
    "from MPQuery import MPQuery\n",
    "from PWCalculation import PWCalculation\n",
    "from SubmitJob import SubmitJob\n",
    "from dftman_utils import *\n",
    "\n",
    "MP_API_KEY = '0WqdPfXxloze6T9N'"
   ]
  },
  {
   "cell_type": "code",
   "execution_count": null,
   "metadata": {},
   "outputs": [],
   "source": [
    "criteria = {\n",
    "    'elements': 'Al',\n",
    "    'nsites': 1,\n",
    "    'spacegroup.number': 225,\n",
    "}\n",
    "properties = []\n",
    "m = mpquery_helper(criteria, properties, MP_API_KEY)\n",
    "m.query()\n",
    "m"
   ]
  },
  {
   "cell_type": "code",
   "execution_count": null,
   "metadata": {},
   "outputs": [],
   "source": [
    "inputs = {\n",
    "    'structure': m.result[0]['structure'],\n",
    "\n",
    "    'control': {\n",
    "        'calculation': 'scf',\n",
    "        'verbosity': 'high',\n",
    "        'disk_io': 'none',\n",
    "    },\n",
    "    'system': {\n",
    "        'ibrav': 0,\n",
    "        'ecutwfc': 35.0,\n",
    "        'occupations': 'smearing',\n",
    "        'degauss': 0.01,\n",
    "        'smearing': 'mv',\n",
    "    },\n",
    "    'electrons': {\n",
    "        'electron_maxstep': 500,\n",
    "        'conv_thr': 1.0e-5,\n",
    "    },\n",
    "    'ions': {},\n",
    "    'cell': {},\n",
    "    'kpoints_mode': 'automatic',\n",
    "    'kpoints_grid': (10, 10, 10),\n",
    "    'kpoints_shift': (0, 0, 0),\n",
    "\n",
    "    'pseudo': pseudo_helper(m.result[0]['structure'], 'GBRV_US_LDA',\n",
    "                            '/data/tools/shared/dftman/pseudo_table.json')\n",
    "}"
   ]
  },
  {
   "cell_type": "code",
   "execution_count": null,
   "metadata": {},
   "outputs": [],
   "source": [
    "true_pseudo = pseudo_helper(m.result[0]['structure'], 'GBRV_US_LDA',\n",
    "                            '/data/tools/shared/dftman/pseudo_table.json')\n",
    "calculation = pwcalculation_helper(**inputs, additional_inputs=list(true_pseudo.values()))\n",
    "job = SubmitJob(calculation, 'espresso-6.2.1_pw')"
   ]
  },
  {
   "cell_type": "code",
   "execution_count": null,
   "metadata": {},
   "outputs": [],
   "source": [
    "process = job.submit()"
   ]
  },
  {
   "cell_type": "code",
   "execution_count": null,
   "metadata": {},
   "outputs": [],
   "source": [
    "job.check_status()"
   ]
  },
  {
   "cell_type": "code",
   "execution_count": null,
   "metadata": {},
   "outputs": [],
   "source": [
    "check_status(job)"
   ]
  },
  {
   "cell_type": "code",
   "execution_count": null,
   "metadata": {},
   "outputs": [],
   "source": [
    "job.kill()"
   ]
  },
  {
   "cell_type": "code",
   "execution_count": null,
   "metadata": {},
   "outputs": [],
   "source": [
    "!submit --status"
   ]
  },
  {
   "cell_type": "code",
   "execution_count": 1,
   "metadata": {
    "scrolled": false
   },
   "outputs": [
    {
     "data": {
      "text/plain": [
       "{'bravais_index': 0,\n",
       " 'cpu_time_exceeded': False,\n",
       " 'deprecated_feature_used': False,\n",
       " 'eigenvalues_converged': True,\n",
       " 'electronically_converged': True,\n",
       " 'final_absolute_magnetization': None,\n",
       " 'final_energy': -90.3730956709444,\n",
       " 'final_enthalpy': None,\n",
       " 'final_fermi_energy': 7.8617,\n",
       " 'final_pressure': None,\n",
       " 'final_pressure_tensor': None,\n",
       " 'final_structure': None,\n",
       " 'final_total_energy': -90.3730956709444,\n",
       " 'general_error': False,\n",
       " 'general_warning': True,\n",
       " 'incommensurate_fft_grid': False,\n",
       " 'initial_enthalpy': None,\n",
       " 'initial_pressure': None,\n",
       " 'initial_structure': {'@class': 'Structure',\n",
       "                       '@module': 'pymatgen.core.structure',\n",
       "                       'charge': None,\n",
       "                       'lattice': {'a': 5.396998112736234,\n",
       "                                   'alpha': 60.00001003364052,\n",
       "                                   'b': 5.397001637001601,\n",
       "                                   'beta': 59.999988432423876,\n",
       "                                   'c': 5.397,\n",
       "                                   'gamma': 60.00001388949468,\n",
       "                                   'matrix': [[4.6739369250000005, 0.0, 2.6985],\n",
       "                                              [1.5579789750000002,\n",
       "                                               4.406634309,\n",
       "                                               2.6985],\n",
       "                                              [0.0, 0.0, 5.397]],\n",
       "                                   'volume': 111.15839739132217},\n",
       "                       'sites': [{'abc': [0.0, 0.0, 0.0],\n",
       "                                  'label': 'Al',\n",
       "                                  'species': [{'element': 'Al', 'occu': 1}],\n",
       "                                  'xyz': [0.0, 0.0, 0.0]}]},\n",
       " 'initial_total_energy': -90.3730956709444,\n",
       " 'job_done': True,\n",
       " 'max_steps_reached': False,\n",
       " 'number_of_iterations_used': 8,\n",
       " 'succeeded': True,\n",
       " 'wentzcovitch_max_reached': False}"
      ]
     },
     "execution_count": 1,
     "metadata": {},
     "output_type": "execute_result"
    }
   ],
   "source": [
    "from PWOutput import PWOutput\n",
    "with open('66984.stdout', 'r') as f:\n",
    "    stdout_text = f.read()\n",
    "pwoutput = PWOutput(stdout_text)\n",
    "pwoutput"
   ]
  },
  {
   "cell_type": "code",
   "execution_count": 4,
   "metadata": {},
   "outputs": [
    {
     "data": {
      "text/html": [
       "<div>\n",
       "<style scoped>\n",
       "    .dataframe tbody tr th:only-of-type {\n",
       "        vertical-align: middle;\n",
       "    }\n",
       "\n",
       "    .dataframe tbody tr th {\n",
       "        vertical-align: top;\n",
       "    }\n",
       "\n",
       "    .dataframe thead th {\n",
       "        text-align: right;\n",
       "    }\n",
       "</style>\n",
       "<table border=\"1\" class=\"dataframe\">\n",
       "  <thead>\n",
       "    <tr style=\"text-align: right;\">\n",
       "      <th></th>\n",
       "    </tr>\n",
       "  </thead>\n",
       "  <tbody>\n",
       "  </tbody>\n",
       "</table>\n",
       "</div>"
      ],
      "text/plain": [
       "Empty DataFrame\n",
       "Columns: []\n",
       "Index: []"
      ]
     },
     "execution_count": 4,
     "metadata": {},
     "output_type": "execute_result"
    }
   ],
   "source": [
    "submit_status()"
   ]
  },
  {
   "cell_type": "code",
   "execution_count": 6,
   "metadata": {},
   "outputs": [],
   "source": [
    "!submit --status"
   ]
  },
  {
   "cell_type": "code",
   "execution_count": null,
   "metadata": {},
   "outputs": [],
   "source": []
  }
 ],
 "metadata": {
  "kernelspec": {
   "display_name": "Python 3",
   "language": "python",
   "name": "python3"
  },
  "language_info": {
   "codemirror_mode": {
    "name": "ipython",
    "version": 3
   },
   "file_extension": ".py",
   "mimetype": "text/x-python",
   "name": "python",
   "nbconvert_exporter": "python",
   "pygments_lexer": "ipython3",
   "version": "3.6.5"
  }
 },
 "nbformat": 4,
 "nbformat_minor": 2
}
