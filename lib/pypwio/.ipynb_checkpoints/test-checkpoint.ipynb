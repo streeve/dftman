{
 "cells": [
  {
   "cell_type": "code",
   "execution_count": 2,
   "metadata": {},
   "outputs": [],
   "source": [
    "import tinydb\n",
    "\n",
    "from pymatgen.io.pwscf import PWInput\n",
    "\n",
    "from MPQuery import MPQuery\n",
    "from PWCalculation import PWCalculation\n",
    "from SubmitJob import SubmitJob\n",
    "from dftman_utils import *\n",
    "\n",
    "MP_API_KEY = '0WqdPfXxloze6T9N'"
   ]
  },
  {
   "cell_type": "code",
   "execution_count": 3,
   "metadata": {},
   "outputs": [
    {
     "data": {
      "text/plain": [
       "            elements pretty_formula        structure\n",
       "material_id                                         \n",
       "mp-134          [Al]             Al  [[0. 0. 0.] Al]"
      ]
     },
     "execution_count": 3,
     "metadata": {},
     "output_type": "execute_result"
    }
   ],
   "source": [
    "criteria = {\n",
    "    'elements': 'Al',\n",
    "    'nsites': 1,\n",
    "    'spacegroup.number': 225,\n",
    "}\n",
    "properties = []\n",
    "m = mpquery_helper(criteria, properties, MP_API_KEY)\n",
    "m.query()\n",
    "m"
   ]
  },
  {
   "cell_type": "code",
   "execution_count": 4,
   "metadata": {},
   "outputs": [],
   "source": [
    "inputs = {\n",
    "    'structure': m.result[0]['structure'],\n",
    "\n",
    "    'control': {\n",
    "        'calculation': 'scf',\n",
    "        'verbosity': 'high',\n",
    "        'disk_io': 'none',\n",
    "    },\n",
    "    'system': {\n",
    "        'ibrav': 0,\n",
    "        'ecutwfc': 35.0,\n",
    "        'occupations': 'smearing',\n",
    "        'degauss': 0.01,\n",
    "        'smearing': 'mv',\n",
    "    },\n",
    "    'electrons': {\n",
    "        'electron_maxstep': 500,\n",
    "        'conv_thr': 1.0e-5,\n",
    "    },\n",
    "    'ions': {},\n",
    "    'cell': {},\n",
    "    'kpoints_mode': 'automatic',\n",
    "    'kpoints_grid': (10, 10, 10),\n",
    "    'kpoints_shift': (0, 0, 0),\n",
    "\n",
    "    'pseudo': pseudo_helper(m.result[0]['structure'], 'GBRV_US_LDA',\n",
    "                            '/data/tools/shared/dftman/pseudo_table.json')\n",
    "}"
   ]
  },
  {
   "cell_type": "code",
   "execution_count": 11,
   "metadata": {},
   "outputs": [],
   "source": [
    "true_pseudo = pseudo_helper(m.result[0]['structure'], 'GBRV_US_LDA',\n",
    "                            '/data/tools/shared/dftman/pseudo_table.json')\n",
    "calculation = pwcalculation_helper(**inputs, additional_inputs=list(true_pseudo.values()))\n",
    "job = SubmitJob(calculation, 'espresso-6.2.1_pw')"
   ]
  },
  {
   "cell_type": "code",
   "execution_count": 13,
   "metadata": {},
   "outputs": [],
   "source": [
    "process = job.submit()"
   ]
  },
  {
   "cell_type": "code",
   "execution_count": null,
   "metadata": {
    "scrolled": true
   },
   "outputs": [],
   "source": [
    "job.check_status()"
   ]
  },
  {
   "cell_type": "code",
   "execution_count": null,
   "metadata": {},
   "outputs": [],
   "source": [
    "!submit --status 7023627"
   ]
  },
  {
   "cell_type": "code",
   "execution_count": null,
   "metadata": {},
   "outputs": [],
   "source": [
    "submit_status()"
   ]
  },
  {
   "cell_type": "code",
   "execution_count": null,
   "metadata": {},
   "outputs": [],
   "source": []
  }
 ],
 "metadata": {
  "kernelspec": {
   "display_name": "Python 3",
   "language": "python",
   "name": "python3"
  },
  "language_info": {
   "codemirror_mode": {
    "name": "ipython",
    "version": 3
   },
   "file_extension": ".py",
   "mimetype": "text/x-python",
   "name": "python",
   "nbconvert_exporter": "python",
   "pygments_lexer": "ipython3",
   "version": "3.6.5"
  }
 },
 "nbformat": 4,
 "nbformat_minor": 2
}
