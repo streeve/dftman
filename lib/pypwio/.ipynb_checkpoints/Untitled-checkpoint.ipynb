{
 "cells": [
  {
   "cell_type": "code",
   "execution_count": 1,
   "metadata": {},
   "outputs": [],
   "source": [
    "import tinydb\n",
    "\n",
    "from pymatgen.io.pwscf import PWInput\n",
    "\n",
    "from MPQuery import MPQuery\n",
    "from PWCalculation import PWCalculation\n",
    "from SubmitJob import SubmitJob\n",
    "from dftman_utils import *\n",
    "\n",
    "MP_API_KEY = '0WqdPfXxloze6T9N'"
   ]
  },
  {
   "cell_type": "code",
   "execution_count": 2,
   "metadata": {},
   "outputs": [
    {
     "data": {
      "text/plain": [
       "[{'material_id': 'mp-134',\n",
       "  'pretty_formula': 'Al',\n",
       "  'elements': ['Al'],\n",
       "  'structure': Structure Summary\n",
       "  Lattice\n",
       "      abc : 2.8559545504615884 2.8559545550998178 2.85595455\n",
       "   angles : 59.99999994324255 59.999999889519216 60.00000004694236\n",
       "   volume : 16.471717219172955\n",
       "        A : 2.47332919 0.0 1.42797728\n",
       "        B : 0.82444306 2.33187713 1.42797728\n",
       "        C : 0.0 0.0 2.85595455\n",
       "  PeriodicSite: Al (0.0000, 0.0000, 0.0000) [0.0000, 0.0000, 0.0000]}]"
      ]
     },
     "execution_count": 2,
     "metadata": {},
     "output_type": "execute_result"
    }
   ],
   "source": [
    "criteria = {\n",
    "    'elements': 'Al',\n",
    "    'nsites': 1,\n",
    "    'spacegroup.number': 225,\n",
    "}\n",
    "properties = []\n",
    "m = mpquery_helper(criteria, properties, MP_API_KEY)\n",
    "m.query()"
   ]
  },
  {
   "cell_type": "code",
   "execution_count": 3,
   "metadata": {},
   "outputs": [],
   "source": [
    "structure = m.result[0]['structure']\n",
    "\n",
    "control = {\n",
    "    'calculation'                       :    'scf',\n",
    "    'verbosity'                         :    'high',\n",
    "}\n",
    "system = {\n",
    "    'ibrav'                             :    0,\n",
    "    'ecutwfc'                           :    35.0,\n",
    "    'occupations'                       :    'smearing',\n",
    "    'degauss'                           :    0.01,\n",
    "    'smearing'                          :    'mv',\n",
    "}\n",
    "electrons = {\n",
    "    'electron_maxstep'                  :    500,\n",
    "    'conv_thr'                          :    1.0e-5,\n",
    "}\n",
    "ions = {}\n",
    "cell = {}\n",
    "kpoints_mode  = 'automatic'\n",
    "kpoints_grid  = (10, 10, 10)\n",
    "kpoints_shift = (0, 0, 0)\n",
    "\n",
    "pseudo = {'Al': 'Al.pbe-n-kjpaw_psl.1.0.0.UPF'}"
   ]
  },
  {
   "cell_type": "code",
   "execution_count": 5,
   "metadata": {},
   "outputs": [],
   "source": [
    "calculation = pwcalculation_helper(structure, pseudo, control,\n",
    "                                   system, electrons, ions, cell,\n",
    "                                   kpoints_mode, kpoints_grid,\n",
    "                                   kpoints_shift)\n",
    "job = SubmitJob(calculation, 'pw')"
   ]
  },
  {
   "cell_type": "code",
   "execution_count": 6,
   "metadata": {},
   "outputs": [],
   "source": []
  },
  {
   "cell_type": "code",
   "execution_count": null,
   "metadata": {},
   "outputs": [],
   "source": []
  }
 ],
 "metadata": {
  "kernelspec": {
   "display_name": "Python 3",
   "language": "python",
   "name": "python3"
  },
  "language_info": {
   "codemirror_mode": {
    "name": "ipython",
    "version": 3
   },
   "file_extension": ".py",
   "mimetype": "text/x-python",
   "name": "python",
   "nbconvert_exporter": "python",
   "pygments_lexer": "ipython3",
   "version": "3.6.7"
  }
 },
 "nbformat": 4,
 "nbformat_minor": 2
}
