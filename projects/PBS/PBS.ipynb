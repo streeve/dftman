{
 "cells": [
  {
   "cell_type": "code",
   "execution_count": 3,
   "metadata": {},
   "outputs": [],
   "source": [
    "import sys\n",
    "import qgrid\n",
    "import copy\n",
    "\n",
    "import pandas as pd\n",
    "import numpy as np\n",
    "import matplotlib.pyplot as plt\n",
    "\n",
    "sys.path.append('../../lib/')\n",
    "from dftmanlib.pwscf import pwcalculation_helper, pseudo_helper\n",
    "from dftmanlib.job import PBSJob\n",
    "from dftmanlib.matproj import mpquery_helper\n",
    "from dftmanlib.db import load_db\n",
    "\n",
    "from tinydb import Query\n",
    "\n",
    "qgrid.enable()\n",
    "db = load_db()\n",
    "table = db.table('SubmitJob')\n",
    "\n",
    "PSEUDO_TABLE = '/data/tools/dftman/pseudo_table.json'\n",
    "# available pseudo families:\n",
    "# ['SSSP_EFFICIENCY', 'SSSP_PRECISION', 'GBRV_US_LDA',\n",
    "#  'GBRV_US_PBE', 'GBRV_US_PBEsol', 'DOJO_STANDARD_LDA_NC',\n",
    "#  'DOJO_STANDARD_PBE_NC', 'DOJO_STANDARD_PBEsol_NC',\n",
    "#  'DOJO_STRINGENT_LDA_NC', 'DOJO_STRINGENT_PBE_NC',\n",
    "#  'DOJO_STRINGENT_PBAsol_NC']\n",
    "PSEUDO_FAMILY = 'GBRV_US_PBE'\n",
    "MP_API_KEY = '0WqdPfXxloze6T9N'"
   ]
  },
  {
   "cell_type": "markdown",
   "metadata": {},
   "source": [
    "## Materials Project Query"
   ]
  },
  {
   "cell_type": "code",
   "execution_count": 4,
   "metadata": {},
   "outputs": [
    {
     "data": {
      "application/vnd.jupyter.widget-view+json": {
       "model_id": "5bba170fecaf47d18a8a299abf6754a1",
       "version_major": 2,
       "version_minor": 0
      },
      "text/html": [
       "<p>Failed to display Jupyter Widget of type <code>QgridWidget</code>.</p>\n",
       "<p>\n",
       "  If you're reading this message in the Jupyter Notebook or JupyterLab Notebook, it may mean\n",
       "  that the widgets JavaScript is still loading. If this message persists, it\n",
       "  likely means that the widgets JavaScript library is either not installed or\n",
       "  not enabled. See the <a href=\"https://ipywidgets.readthedocs.io/en/stable/user_install.html\">Jupyter\n",
       "  Widgets Documentation</a> for setup instructions.\n",
       "</p>\n",
       "<p>\n",
       "  If you're reading this message in another frontend (for example, a static\n",
       "  rendering on GitHub or <a href=\"https://nbviewer.jupyter.org/\">NBViewer</a>),\n",
       "  it may mean that your frontend doesn't currently support widgets.\n",
       "</p>\n"
      ],
      "text/plain": [
       "QgridWidget(grid_options={'fullWidthRows': True, 'syncColumnCellResize': True, 'forceFitColumns': True, 'defaultColumnWidth': 150, 'rowHeight': 28, 'enableColumnReorder': False, 'enableTextSelectionOnCells': True, 'editable': True, 'autoEdit': False, 'explicitInitialization': True, 'maxVisibleRows': 15, 'minVisibleRows': 8, 'sortable': True, 'filterable': True, 'highlightSelectedCell': False, 'highlightSelectedRow': True}, id='6e644f0a-b378-42e6-b54c-af257e3dff2b', precision=5)"
      ]
     },
     "metadata": {},
     "output_type": "display_data"
    }
   ],
   "source": [
    "criteria = {\n",
    "    'elements': 'Al',\n",
    "    'nsites': 1,\n",
    "    'spacegroup.number': 225,\n",
    "}\n",
    "properties = []\n",
    "m = mpquery_helper(criteria, properties, MP_API_KEY)\n",
    "m.query()\n",
    "m.display()"
   ]
  },
  {
   "cell_type": "markdown",
   "metadata": {},
   "source": [
    "### Base configuration"
   ]
  },
  {
   "cell_type": "code",
   "execution_count": 5,
   "metadata": {},
   "outputs": [],
   "source": [
    "STRUCTURE = m.result[0]['structure']\n",
    "\n",
    "PSEUDO = pseudo_helper(STRUCTURE, PSEUDO_FAMILY,\n",
    "                       PSEUDO_TABLE)\n",
    "base_inputs = {\n",
    "        'structure': STRUCTURE,\n",
    "        'pseudo': PSEUDO,\n",
    "\n",
    "        'control': {\n",
    "            'calculation': 'scf',\n",
    "            'verbosity': 'high',\n",
    "            'disk_io': 'none',\n",
    "        },\n",
    "        'system': {\n",
    "            'ibrav': 0,\n",
    "            'ecutwfc': 45,\n",
    "            'occupations': 'smearing',\n",
    "            'degauss': 0.01,\n",
    "            'smearing': 'mv',\n",
    "        },\n",
    "        'electrons': {\n",
    "            'electron_maxstep': 500,\n",
    "            'conv_thr': 1.0e-6,\n",
    "        },\n",
    "        'ions': {},\n",
    "        'cell': {},\n",
    "        'kpoints_mode': 'automatic',\n",
    "        'kpoints_grid': (20, 20, 20),\n",
    "        'kpoints_shift': (0, 0, 0),\n",
    "    }"
   ]
  },
  {
   "cell_type": "markdown",
   "metadata": {},
   "source": [
    "### Customize, store, and run individual calculations"
   ]
  },
  {
   "cell_type": "code",
   "execution_count": 6,
   "metadata": {},
   "outputs": [],
   "source": [
    "calculation = pwcalculation_helper(**base_inputs)\n",
    "command = 'pw.x < {input_path:s} > {output_path:s}'"
   ]
  },
  {
   "cell_type": "code",
   "execution_count": 7,
   "metadata": {},
   "outputs": [],
   "source": [
    "job = PBSJob(calculation, command, walltime='01:00:00', nnodes=1, ppn=20, np=20, queue='standby',\n",
    "             runname='test1')"
   ]
  },
  {
   "cell_type": "code",
   "execution_count": 8,
   "metadata": {},
   "outputs": [],
   "source": [
    "job.write_input()\n",
    "job.write_script()"
   ]
  },
  {
   "cell_type": "code",
   "execution_count": 9,
   "metadata": {},
   "outputs": [
    {
     "name": "stdout",
     "output_type": "stream",
     "text": [
      "\r\n",
      "#!/bin/bash\r\n",
      "#PBS -l walltime=01:00:00\r\n",
      "#PBS -l nodes=1:ppn=20\r\n",
      "#PBS -q standby\r\n",
      "#PBS -N test1\r\n",
      "\r\n",
      "\r\n",
      "\r\n",
      "mpirun -np 20 mpirun -np 20 pw.x < /home/nanohub/azadoks/git/dftman/projects/PBS/jobs/test1_9a3944622d6f/pwscf.in > /home/nanohub/azadoks/git/dftman/projects/PBS/jobs/test1_9a3944622d6f/pwscf.out\r\n",
      "\r\n",
      "\r\n"
     ]
    }
   ],
   "source": [
    "!cat jobs/test1_9a3944622d6f/pbs_runscript.sh"
   ]
  }
 ],
 "metadata": {
  "kernelspec": {
   "display_name": "Python 3",
   "language": "python",
   "name": "python3"
  },
  "language_info": {
   "codemirror_mode": {
    "name": "ipython",
    "version": 3
   },
   "file_extension": ".py",
   "mimetype": "text/x-python",
   "name": "python",
   "nbconvert_exporter": "python",
   "pygments_lexer": "ipython3",
   "version": "3.6.5"
  }
 },
 "nbformat": 4,
 "nbformat_minor": 2
}
