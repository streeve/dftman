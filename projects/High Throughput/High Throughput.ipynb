{
 "cells": [
  {
   "cell_type": "code",
   "execution_count": 1,
   "metadata": {},
   "outputs": [
    {
     "name": "stdout",
     "output_type": "stream",
     "text": [
      "This database already exists! Loading instead.\n"
     ]
    }
   ],
   "source": [
    "import sys\n",
    "import qgrid\n",
    "import numpy as np\n",
    "import pandas as pd\n",
    "import matplotlib.pyplot as plt\n",
    "from pymatgen import Structure\n",
    "\n",
    "sys.path.append('../../lib/')\n",
    "from dftmanlib.pwscf import (pwinput_helper,\n",
    "                             pwcalculation_helper,\n",
    "                             pseudo_helper)\n",
    "from dftmanlib.pwscf.workflow import EOSWorkflow\n",
    "from dftmanlib.db import (init, load, store)\n",
    "from dftmanlib.job import SubmitJob, submitjob_statuses, submit_status\n",
    "from dftmanlib.matproj import mpquery_helper\n",
    "\n",
    "PSEUDO_TABLE = '/data/tools/shared/dftman/pseudo_table.json'\n",
    "# available pseudo families:\n",
    "# ['SSSP_EFFICIENCY', 'SSSP_PRECISION', 'GBRV_US_LDA',\n",
    "#  'GBRV_US_PBE', 'GBRV_US_PBEsol', 'DOJO_STANDARD_LDA_NC',\n",
    "#  'DOJO_STANDARD_PBE_NC', 'DOJO_STANDARD_PBEsol_NC',\n",
    "#  'DOJO_STRINGENT_LDA_NC', 'DOJO_STRINGENT_PBE_NC',\n",
    "#  'DOJO_STRINGENT_PBAsol_NC']\n",
    "PSEUDO_FAMILY = 'GBRV_US_PBE'\n",
    "\n",
    "qgrid.enable()\n",
    "MP_API_KEY = '0WqdPfXxloze6T9N'\n",
    "db = init()"
   ]
  },
  {
   "cell_type": "markdown",
   "metadata": {},
   "source": [
    "## Materials Project Query"
   ]
  },
  {
   "cell_type": "code",
   "execution_count": null,
   "metadata": {},
   "outputs": [],
   "source": [
    "criteria = {\n",
    "    'elements': 'Al',\n",
    "    'nsites': 1,\n",
    "    'spacegroup.number': 225,\n",
    "}\n",
    "properties = []\n",
    "m = mpquery_helper(criteria, properties, MP_API_KEY)\n",
    "m.query()\n",
    "m.display()"
   ]
  },
  {
   "cell_type": "markdown",
   "metadata": {},
   "source": [
    "### Base configuration"
   ]
  },
  {
   "cell_type": "code",
   "execution_count": null,
   "metadata": {},
   "outputs": [],
   "source": [
    "structure = Structure.from_dict(m.result[0]['structure'])\n",
    "pseudo = pseudo_helper(structure, PSEUDO_FAMILY,\n",
    "                       PSEUDO_TABLE)\n",
    "base_inputs = {\n",
    "        'structure': structure,\n",
    "\n",
    "        'control': {\n",
    "            'calculation': 'relax',\n",
    "            'verbosity': 'high',\n",
    "            'disk_io': 'none',\n",
    "        },\n",
    "        'system': {\n",
    "            'ibrav': 0,\n",
    "            'ecutwfc': 45,\n",
    "            'occupations': 'smearing',\n",
    "            'degauss': 0.01,\n",
    "            'smearing': 'mv',\n",
    "        },\n",
    "        'electrons': {\n",
    "            'electron_maxstep': 500,\n",
    "            'conv_thr': 1.0e-6,\n",
    "        },\n",
    "        'ions': {},\n",
    "        'cell': {},\n",
    "        'kpoints_mode': 'automatic',\n",
    "        'kpoints_grid': (20, 20, 20),\n",
    "        'kpoints_shift': (0, 0, 0),\n",
    "\n",
    "        'pseudo': pseudo\n",
    "    }"
   ]
  },
  {
   "cell_type": "code",
   "execution_count": null,
   "metadata": {},
   "outputs": [],
   "source": [
    "runname = 'test1'\n",
    "calculation = pwcalculation_helper(**base_inputs,\n",
    "                                   additional_inputs = list(pseudo.values()))\n",
    "job = SubmitJob(calculation, code='espresso-6.2.1_pw', runname=runname)\n",
    "\n",
    "key = store(job, db)\n",
    "job.submit()"
   ]
  },
  {
   "cell_type": "code",
   "execution_count": 2,
   "metadata": {},
   "outputs": [],
   "source": [
    "job_key = '981986e82a27'\n",
    "job = db.Jobs[job_key]"
   ]
  },
  {
   "cell_type": "code",
   "execution_count": 3,
   "metadata": {},
   "outputs": [
    {
     "data": {
      "text/plain": [
       "{'Status': 'Queued',\n",
       " 'ID': 7033322,\n",
       " 'Run Name': 'test1',\n",
       " 'Location': 'ncn-hub@brown',\n",
       " 'Submission Time': 'Tue Jan 29 07:58:42 2019',\n",
       " 'Key': '981986e82a27'}"
      ]
     },
     "execution_count": 3,
     "metadata": {},
     "output_type": "execute_result"
    }
   ],
   "source": [
    "job.check_status()"
   ]
  },
  {
   "cell_type": "code",
   "execution_count": null,
   "metadata": {},
   "outputs": [],
   "source": [
    "# workflow = EOSWorkflow(structure, pseudo, base_inputs, db)\n",
    "# # workflow.run()"
   ]
  },
  {
   "cell_type": "code",
   "execution_count": null,
   "metadata": {},
   "outputs": [],
   "source": [
    "# display(workflow.check_status().set_index('ID')[['Run Name', 'Status', 'Location', 'Submission Time', 'Key']])\n",
    "# display(submit_status())"
   ]
  },
  {
   "cell_type": "code",
   "execution_count": null,
   "metadata": {},
   "outputs": [],
   "source": []
  }
 ],
 "metadata": {
  "kernelspec": {
   "display_name": "Python 3",
   "language": "python",
   "name": "python3"
  },
  "language_info": {
   "codemirror_mode": {
    "name": "ipython",
    "version": 3
   },
   "file_extension": ".py",
   "mimetype": "text/x-python",
   "name": "python",
   "nbconvert_exporter": "python",
   "pygments_lexer": "ipython3",
   "version": "3.6.5"
  }
 },
 "nbformat": 4,
 "nbformat_minor": 2
}
