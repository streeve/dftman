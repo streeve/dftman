{
 "cells": [
  {
   "cell_type": "code",
   "execution_count": 9,
   "metadata": {},
   "outputs": [],
   "source": [
    "rm -rf *tinydb jobs/*"
   ]
  },
  {
   "cell_type": "code",
   "execution_count": 10,
   "metadata": {},
   "outputs": [],
   "source": [
    "import sys\n",
    "import qgrid\n",
    "import copy\n",
    "\n",
    "import pandas as pd\n",
    "import numpy as np\n",
    "import matplotlib.pyplot as plt\n",
    "\n",
    "sys.path.append('../../lib/')\n",
    "from dftmanlib.pwscf import (pwinput_helper,\n",
    "                             pwcalculation_helper,\n",
    "                             pseudo_helper)\n",
    "from dftmanlib.pwscf.workflow import EOSWorkflow\n",
    "from dftmanlib.job import SubmitJob, submitjob_statuses, submit_status\n",
    "from dftmanlib.matproj import mpquery_helper\n",
    "from dftmanlib.db import init_db, load_db, MSONStorage\n",
    "\n",
    "import tinydb\n",
    "from tinydb.database import _get_doc_id"
   ]
  },
  {
   "cell_type": "code",
   "execution_count": 11,
   "metadata": {},
   "outputs": [],
   "source": [
    "PSEUDO_TABLE = '/data/tools/shared/dftman/pseudo_table.json'\n",
    "PSEUDO_FAMILY = 'GBRV_US_PBE'\n",
    "MP_API_KEY = '0WqdPfXxloze6T9N'\n",
    "qgrid.enable()"
   ]
  },
  {
   "cell_type": "code",
   "execution_count": 16,
   "metadata": {
    "scrolled": false
   },
   "outputs": [],
   "source": [
    "db = tinydb.TinyDB('db.tinydb', storage=MSONStorage)\n",
    "table = db.table('_default')"
   ]
  },
  {
   "cell_type": "code",
   "execution_count": 17,
   "metadata": {},
   "outputs": [],
   "source": [
    "criteria = {\n",
    "    'elements': 'Al',\n",
    "    'nsites': 1,\n",
    "    'spacegroup.number': 225,\n",
    "}\n",
    "properties = []\n",
    "m = mpquery_helper(criteria, properties, MP_API_KEY)\n",
    "m.query()\n",
    "\n",
    "STRUCTURE = m.result[0]['structure']\n",
    "PSEUDO = pseudo_helper(STRUCTURE, PSEUDO_FAMILY,\n",
    "                       PSEUDO_TABLE)\n",
    "base_inputs = {\n",
    "        'structure': STRUCTURE,\n",
    "\n",
    "        'control': {\n",
    "            'calculation': 'scf',\n",
    "            'verbosity': 'high',\n",
    "            'disk_io': 'none',\n",
    "        },\n",
    "        'system': {\n",
    "            'ibrav': 0,\n",
    "            'ecutwfc': None,\n",
    "            'occupations': 'smearing',\n",
    "            'degauss': 0.01,\n",
    "            'smearing': 'mv',\n",
    "        },\n",
    "        'electrons': {\n",
    "            'electron_maxstep': 500,\n",
    "            'conv_thr': 1.0e-7,\n",
    "        },\n",
    "        'ions': {},\n",
    "        'cell': {},\n",
    "        'kpoints_mode': 'automatic',\n",
    "        'kpoints_grid': (None, None, None),\n",
    "        'kpoints_shift': (0, 0, 0),\n",
    "\n",
    "        'pseudo': PSEUDO\n",
    "    }\n",
    "ecut = 35\n",
    "# kpoints = [10, 12, 14, 16, 18, 20, 22, 24]\n",
    "kpoints = [10]\n",
    "kpoints_ids = []\n",
    "\n",
    "for kpoint in kpoints:    \n",
    "    inputs = copy.deepcopy(base_inputs)\n",
    "    inputs['system']['ecutwfc'] = ecut\n",
    "    inputs['kpoints_grid'] = (kpoint, kpoint, kpoint)\n",
    "    \n",
    "    runname = 'Alkpoint{}'.format(kpoint)\n",
    "    calculation = pwcalculation_helper(**inputs, additional_inputs=list(PSEUDO.values()))\n",
    "    job = SubmitJob(calculation, 'espresso-6.2.1_pw', runname=runname)\n",
    "    \n",
    "    doc_id = db.insert(job)"
   ]
  },
  {
   "cell_type": "code",
   "execution_count": 23,
   "metadata": {},
   "outputs": [
    {
     "data": {
      "text/plain": [
       "{'1': {'@class': 'SubmitJob',\n",
       "  '@module': 'dftmanlib.job.SubmitJob',\n",
       "  'calculation': {'@class': 'PWCalculation',\n",
       "                  '@module': 'dftmanlib.pwscf.pwscf',\n",
       "                  'additional_inputs': ['/data/tools/shared/dftman/GBRV_PBE_US/al_pbe_v1.uspp.F.UPF'],\n",
       "                  'directory': './',\n",
       "                  'input_': {'@class': 'PWInput',\n",
       "                             '@module': 'dftmanlib.pwscf.pwscf',\n",
       "                             'cell': {},\n",
       "                             'control': {'calculation': 'scf',\n",
       "                                         'disk_io': 'none',\n",
       "                                         'outdir': './',\n",
       "                                         'prefix': 'pwscf',\n",
       "                                         'pseudo_dir': './',\n",
       "                                         'restart_mode': 'from_scratch',\n",
       "                                         'verbosity': 'high'},\n",
       "                             'electrons': {'conv_thr': 1e-07,\n",
       "                                           'electron_maxstep': 500},\n",
       "                             'ions': {},\n",
       "                             'kpoints_grid': [10, 10, 10],\n",
       "                             'kpoints_mode': 'automatic',\n",
       "                             'kpoints_shift': [0, 0, 0],\n",
       "                             'pseudo': {'Al': 'al_pbe_v1.uspp.F.UPF'},\n",
       "                             'structure': {'@class': 'Structure',\n",
       "                                           '@module': 'pymatgen.core.structure',\n",
       "                                           'charge': None,\n",
       "                                           'lattice': {'a': 2.8559545504615884,\n",
       "                                                       'alpha': 59.99999994324255,\n",
       "                                                       'b': 2.8559545550998178,\n",
       "                                                       'beta': 59.999999889519216,\n",
       "                                                       'c': 2.85595455,\n",
       "                                                       'gamma': 60.00000004694236,\n",
       "                                                       'matrix': [[2.47332919,\n",
       "                                                                   0.0,\n",
       "                                                                   1.42797728],\n",
       "                                                                  [0.82444306,\n",
       "                                                                   2.33187713,\n",
       "                                                                   1.42797728],\n",
       "                                                                  [0.0,\n",
       "                                                                   0.0,\n",
       "                                                                   2.85595455]],\n",
       "                                                       'volume': 16.471717219172955},\n",
       "                                           'sites': [{'abc': [0.0, 0.0, 0.0],\n",
       "                                                      'label': 'Al',\n",
       "                                                      'properties': {'magmom': 0.0},\n",
       "                                                      'species': [{'element': 'Al',\n",
       "                                                                   'occu': 1}],\n",
       "                                                      'xyz': [0.0, 0.0, 0.0]}]},\n",
       "                             'system': {'degauss': 0.01,\n",
       "                                        'ecutwfc': 35,\n",
       "                                        'ibrav': 0,\n",
       "                                        'occupations': 'smearing',\n",
       "                                        'smearing': 'mv'}},\n",
       "                  'input_name': 'pwscf.in',\n",
       "                  'output': {'@class': 'PWOutput',\n",
       "                             '@module': 'dftmanlib.pwscf.pwscf',\n",
       "                             'path': '',\n",
       "                             'string': ''},\n",
       "                  'output_type': None},\n",
       "  'code': 'espresso-6.2.1_pw',\n",
       "  'directory': './jobs/Alkpoint10_44d6481a6b1e/44d6481a6b1e',\n",
       "  'doc_id': None,\n",
       "  'hash': '44d6481a6b1e',\n",
       "  'location': None,\n",
       "  'metadata': None,\n",
       "  'ncpus': 1,\n",
       "  'runname': 'Alkpoint10',\n",
       "  'status': None,\n",
       "  'submission_time': None,\n",
       "  'submit_id': None,\n",
       "  'walltime': '01:00:00'}}"
      ]
     },
     "execution_count": 23,
     "metadata": {},
     "output_type": "execute_result"
    }
   ],
   "source": [
    "_get_doc_id(doc_id, None)\n",
    "table._storage._storage.read()['_default']"
   ]
  },
  {
   "cell_type": "code",
   "execution_count": null,
   "metadata": {},
   "outputs": [],
   "source": []
  }
 ],
 "metadata": {
  "kernelspec": {
   "display_name": "Python 3",
   "language": "python",
   "name": "python3"
  },
  "language_info": {
   "codemirror_mode": {
    "name": "ipython",
    "version": 3
   },
   "file_extension": ".py",
   "mimetype": "text/x-python",
   "name": "python",
   "nbconvert_exporter": "python",
   "pygments_lexer": "ipython3",
   "version": "3.6.5"
  }
 },
 "nbformat": 4,
 "nbformat_minor": 2
}
