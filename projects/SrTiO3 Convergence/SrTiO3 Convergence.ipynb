{
 "cells": [
  {
   "cell_type": "code",
   "execution_count": 1,
   "metadata": {},
   "outputs": [
    {
     "name": "stdout",
     "output_type": "stream",
     "text": [
      "This database already exists! Loading instead.\n"
     ]
    }
   ],
   "source": [
    "import copy\n",
    "import sys\n",
    "import qgrid\n",
    "import numpy as np\n",
    "import pandas as pd\n",
    "import matplotlib.pyplot as plt\n",
    "from pymatgen import Structure\n",
    "\n",
    "sys.path.append('../../lib/')\n",
    "from dftmanlib.pwscf import (pwinput_helper,\n",
    "                             pwcalculation_helper,\n",
    "                             pseudo_helper)\n",
    "from dftmanlib.pwscf.workflow import EOSWorkflow\n",
    "from dftmanlib.db import (init, load, store)\n",
    "from dftmanlib.job import SubmitJob, submitjob_statuses, submit_status\n",
    "from dftmanlib.matproj import mpquery_helper\n",
    "\n",
    "PSEUDO_TABLE = '/data/tools/shared/dftman/pseudo_table.json'\n",
    "# available pseudo families:\n",
    "# ['SSSP_EFFICIENCY', 'SSSP_PRECISION', 'GBRV_US_LDA',\n",
    "#  'GBRV_US_PBE', 'GBRV_US_PBEsol', 'DOJO_STANDARD_LDA_NC',\n",
    "#  'DOJO_STANDARD_PBE_NC', 'DOJO_STANDARD_PBEsol_NC',\n",
    "#  'DOJO_STRINGENT_LDA_NC', 'DOJO_STRINGENT_PBE_NC',\n",
    "#  'DOJO_STRINGENT_PBAsol_NC']\n",
    "PSEUDO_FAMILY = 'GBRV_US_PBE'\n",
    "\n",
    "qgrid.enable()\n",
    "MP_API_KEY = '0WqdPfXxloze6T9N'\n",
    "db = init()"
   ]
  },
  {
   "cell_type": "markdown",
   "metadata": {},
   "source": [
    "## Materials Project Query"
   ]
  },
  {
   "cell_type": "code",
   "execution_count": 2,
   "metadata": {},
   "outputs": [],
   "source": [
    "excluded_other = ['H', 'F']\n",
    "lanthanides = ['La', 'Ce', 'Pr', 'Nd', 'Pm', 'Sm', 'Eu', 'Gd', 'Tb', 'Dy', 'Ho', 'Er', 'Tm', 'Yb', 'Lu']\n",
    "acinides = ['Ac', 'Th', 'Pa', 'U', 'Np', 'Pu',  'Am', 'Cm', 'Bk', 'Cf', 'Es', 'Fm', 'Md', 'No', 'Lr']\n",
    "\n",
    "# cubic (Pm-3m), trigonal (R3m), tetragonal (P4mm), orthorhombic (Amm2) \n",
    "spacegroups = {221: 'cubic', 160: 'trigonal', 99: 'tetragonal', 38: 'orthorhombic'}"
   ]
  },
  {
   "cell_type": "code",
   "execution_count": 3,
   "metadata": {},
   "outputs": [
    {
     "data": {
      "application/vnd.jupyter.widget-view+json": {
       "model_id": "8126998d73d64979a82352f30f69d675",
       "version_major": 2,
       "version_minor": 0
      },
      "text/html": [
       "<p>Failed to display Jupyter Widget of type <code>QgridWidget</code>.</p>\n",
       "<p>\n",
       "  If you're reading this message in the Jupyter Notebook or JupyterLab Notebook, it may mean\n",
       "  that the widgets JavaScript is still loading. If this message persists, it\n",
       "  likely means that the widgets JavaScript library is either not installed or\n",
       "  not enabled. See the <a href=\"https://ipywidgets.readthedocs.io/en/stable/user_install.html\">Jupyter\n",
       "  Widgets Documentation</a> for setup instructions.\n",
       "</p>\n",
       "<p>\n",
       "  If you're reading this message in another frontend (for example, a static\n",
       "  rendering on GitHub or <a href=\"https://nbviewer.jupyter.org/\">NBViewer</a>),\n",
       "  it may mean that your frontend doesn't currently support widgets.\n",
       "</p>\n"
      ],
      "text/plain": [
       "QgridWidget(grid_options={'fullWidthRows': True, 'syncColumnCellResize': True, 'forceFitColumns': True, 'defaultColumnWidth': 150, 'rowHeight': 28, 'enableColumnReorder': False, 'enableTextSelectionOnCells': True, 'editable': True, 'autoEdit': False, 'explicitInitialization': True, 'maxVisibleRows': 15, 'minVisibleRows': 8, 'sortable': True, 'filterable': True, 'highlightSelectedCell': False, 'highlightSelectedRow': True}, id='2b702f45-0fbe-4d61-a3f1-8202d266eec7', precision=5)"
      ]
     },
     "metadata": {},
     "output_type": "display_data"
    }
   ],
   "source": [
    "SPACEGROUP = 221\n",
    "\n",
    "criteria = {\n",
    "    'anonymous_formula': {'A': 1, 'B': 1, 'C': 3},\n",
    "    'elements': {'$in': ['O'],\n",
    "                 '$nin': lanthanides+acinides+excluded_other},\n",
    "    'spacegroup.number': {'$in': list(spacegroups.keys())},\n",
    "    'run_type': 'GGA',\n",
    "    'e_above_hull': {'$lt': 0.01},\n",
    "    'nsites': 5,\n",
    "    'spacegroup.number': SPACEGROUP,\n",
    "}\n",
    "\n",
    "properties = []\n",
    "m = mpquery_helper(criteria, properties, MP_API_KEY)\n",
    "m.query()\n",
    "m.display()"
   ]
  },
  {
   "cell_type": "markdown",
   "metadata": {},
   "source": [
    "# K-point Convergence"
   ]
  },
  {
   "cell_type": "markdown",
   "metadata": {},
   "source": [
    "### Base configuration"
   ]
  },
  {
   "cell_type": "code",
   "execution_count": null,
   "metadata": {},
   "outputs": [],
   "source": [
    "STRUCTURE = m.df[md.df['material_id'] == 'mp-5229']['structure'].tolist()[0]\n",
    "PSEUDO = pseudo_helper(STRUCTURE, PSEUDO_FAMILY,\n",
    "                       PSEUDO_TABLE)\n",
    "base_inputs = {\n",
    "        'structure': STRUCTURE,\n",
    "\n",
    "        'control': {\n",
    "            'calculation': 'scf',\n",
    "            'verbosity': 'high',\n",
    "            'disk_io': 'none',\n",
    "        },\n",
    "        'system': {\n",
    "            'ibrav': 0,\n",
    "            'space_group': SPACEGROUP,\n",
    "            'ecutwfc': None,\n",
    "            'occupations': 'smearing',\n",
    "            'degauss': 0.001,\n",
    "            'smearing': 'mv',\n",
    "        },\n",
    "        'electrons': {\n",
    "            'electron_maxstep': 500,\n",
    "            'conv_thr': 1.0e-8,\n",
    "        },\n",
    "        'ions': {},\n",
    "        'cell': {},\n",
    "        'kpoints_mode': 'automatic',\n",
    "        'kpoints_grid': (None, None, None),\n",
    "        'kpoints_shift': (0, 0, 0),\n",
    "\n",
    "        'pseudo': PSEUDO\n",
    "    }"
   ]
  },
  {
   "cell_type": "markdown",
   "metadata": {},
   "source": [
    "### Customize, store, and run individual calculations"
   ]
  },
  {
   "cell_type": "code",
   "execution_count": null,
   "metadata": {},
   "outputs": [],
   "source": [
    "ecut = 35\n",
    "kpoints = [10, 12, 14, 16, 18, 20, 22, 24]\n",
    "kpoints_keys = []\n",
    "\n",
    "for kpoint in kpoints:    \n",
    "    inputs = copy.deepcopy(base_inputs)\n",
    "    inputs['system']['ecutwfc'] = ecut\n",
    "    inputs['kpoints_grid'] = (kpoint, kpoint, kpoint)\n",
    "    \n",
    "    runname = 'Alkpoint{}'.format(kpoint)\n",
    "    calculation = pwcalculation_helper(**inputs, additional_inputs=list(PSEUDO.values()))\n",
    "    job = SubmitJob(calculation, 'espresso-6.2.1_pw', runname=runname)\n",
    "    \n",
    "    key = db_store(job, db)\n",
    "    kpoints_keys.append(key)\n",
    "    \n",
    "    job.submit()\n",
    "\n",
    "print(kpoints_keys)"
   ]
  },
  {
   "cell_type": "code",
   "execution_count": null,
   "metadata": {},
   "outputs": [],
   "source": [
    "kpoints_keys = ['c9b81d930928', '141600746c17', 'f70dafabd6e2', 'ce3cf7231023', 'a7ef1708c06b', '2991a881756c', 'a23c33c66f60', 'f774ec0fc3fb']"
   ]
  },
  {
   "cell_type": "markdown",
   "metadata": {},
   "source": [
    "### Check status"
   ]
  },
  {
   "cell_type": "code",
   "execution_count": null,
   "metadata": {
    "scrolled": true
   },
   "outputs": [],
   "source": [
    "# individual jobs\n",
    "job_statuses([db.SubmitJobs[key] for key in kpoints_keys])\n",
    "# status as a whole\n",
    "submit_status()"
   ]
  },
  {
   "cell_type": "markdown",
   "metadata": {},
   "source": [
    "### Parse complete jobs and plot results"
   ]
  },
  {
   "cell_type": "code",
   "execution_count": null,
   "metadata": {
    "scrolled": false
   },
   "outputs": [],
   "source": [
    "complete_jobs = []\n",
    "for key in kpoints_keys:\n",
    "    job = db.SubmitJobs[key]\n",
    "    if job.status == 'Complete':\n",
    "        job.parse_output()\n",
    "        complete_jobs.append(job)\n",
    "\n",
    "data = {\n",
    "    # energies per atom in eV\n",
    "    'energies': [job.output.final_total_energy\\\n",
    "                 / len(job.input.structure.sites)\\\n",
    "                 for job in complete_jobs],\n",
    "    'k_points': [job.input.kpoints_grid[0]\\\n",
    "                 for job in complete_jobs]\n",
    "}\n",
    "df = pd.DataFrame(data)\n",
    "df.sort_values(by='k_points')\n",
    "df['d_energies'] = [np.abs(df['energies'][i+1] - df['energies'][i])\\\n",
    "                    for i in range(len(df['energies'])-1)] + [np.nan]\n",
    "\n",
    "fig = plt.figure()\n",
    "fig.set_dpi(300)\n",
    "ax = plt.gca()\n",
    "plt.plot(df['k_points'], df['d_energies'], marker='o')\n",
    "ax.axhline(0.005)\n",
    "plt.xlabel('k-points')\n",
    "plt.ylabel('Change in Energy per atom (eV)')\n",
    "plt.show()\n",
    "plt.close()"
   ]
  },
  {
   "cell_type": "markdown",
   "metadata": {},
   "source": [
    "# Kinetic Energy Cutoff Convergence"
   ]
  },
  {
   "cell_type": "markdown",
   "metadata": {},
   "source": [
    "### Base configuration"
   ]
  },
  {
   "cell_type": "code",
   "execution_count": null,
   "metadata": {},
   "outputs": [],
   "source": [
    "STRUCTURE = m.result[0]['structure']\n",
    "PSEUDO = pseudo_helper(STRUCTURE, PSEUDO_FAMILY,\n",
    "                       PSEUDO_TABLE)\n",
    "base_inputs = {\n",
    "        'structure': STRUCTURE,\n",
    "\n",
    "        'control': {\n",
    "            'calculation': 'scf',\n",
    "            'verbosity': 'high',\n",
    "            'disk_io': 'none',\n",
    "        },\n",
    "        'system': {\n",
    "            'ibrav': 0,\n",
    "            'ecutwfc': None,\n",
    "            'occupations': 'smearing',\n",
    "            'degauss': 0.01,\n",
    "            'smearing': 'mv',\n",
    "        },\n",
    "        'electrons': {\n",
    "            'electron_maxstep': 500,\n",
    "            'conv_thr': 1.0e-7,\n",
    "        },\n",
    "        'ions': {},\n",
    "        'cell': {},\n",
    "        'kpoints_mode': 'automatic',\n",
    "        'kpoints_grid': (None, None, None),\n",
    "        'kpoints_shift': (0, 0, 0),\n",
    "\n",
    "        'pseudo': PSEUDO\n",
    "    }"
   ]
  },
  {
   "cell_type": "markdown",
   "metadata": {},
   "source": [
    "### Customize, store, and run individual calculations"
   ]
  },
  {
   "cell_type": "code",
   "execution_count": null,
   "metadata": {},
   "outputs": [],
   "source": [
    "kpoint = 18\n",
    "ecutwfcs = [20, 25, 30, 36, 40, 45, 50] # 35 is already in the database!\n",
    "structure = m.result[0]['structure']\n",
    "pseudo = pseudo_helper(structure, PSEUDO_FAMILY,\n",
    "                       PSEUDO_TABLE)\n",
    "ecutwfcs_keys = []\n",
    "for ecutwfc in ecutwfcs:\n",
    "    inputs = copy.deepcopy(base_inputs)\n",
    "    inputs['system']['ecutwfc'] = ecutwfc\n",
    "    inputs['kpoints_grid'] = (kpoint, kpoint, kpoint)\n",
    "    \n",
    "    runname = 'Alecut{}'.format(ecutwfc)\n",
    "    calculation = pwcalculation_helper(**inputs, additional_inputs=list(pseudo.values()))\n",
    "    job = SubmitJob(calculation, 'espresso-6.2.1_pw', runname=runname, ncpus=2)\n",
    "    \n",
    "    key = db_store(job, db)\n",
    "    ecutwfcs_keys.append(key)\n",
    "    \n",
    "    job.submit()\n",
    "    \n",
    "print(ecutwfcs_keys)"
   ]
  },
  {
   "cell_type": "code",
   "execution_count": null,
   "metadata": {},
   "outputs": [],
   "source": [
    "ecutwfcs_keys = ['df7215e5d23a', 'a40a6608a250', 'c3c89d562be0', '96a4f8026101', '69d8484cf8a5', 'ed1eec2087ca', '161e81152d34']"
   ]
  },
  {
   "cell_type": "markdown",
   "metadata": {},
   "source": [
    "## Check status"
   ]
  },
  {
   "cell_type": "code",
   "execution_count": null,
   "metadata": {},
   "outputs": [],
   "source": [
    "# individual jobs\n",
    "job_statuses([db.SubmitJobs[key] for key in ecutwfcs_keys])\n",
    "# status as a whole\n",
    "submit_status()"
   ]
  },
  {
   "cell_type": "markdown",
   "metadata": {},
   "source": [
    "## Parse complete jobs and plot results"
   ]
  },
  {
   "cell_type": "code",
   "execution_count": null,
   "metadata": {},
   "outputs": [],
   "source": [
    "\n",
    "complete_jobs = []\n",
    "for key in ecutwfcs_keys:\n",
    "    job = db.SubmitJobs[key]\n",
    "    if job.status == 'Complete':\n",
    "        job.parse_output()\n",
    "        complete_jobs.append(job)\n",
    "        \n",
    "data = {\n",
    "    'energies': [job.output.final_total_energy\\\n",
    "                 for job in complete_jobs],\n",
    "    'ecutwfcs': [job.input.sections['system']['ecutwfc']\\\n",
    "                 for job in complete_jobs]\n",
    "}\n",
    "df = pd.DataFrame(data)\n",
    "df.sort_values(by='ecutwfcs')\n",
    "df['d_energies'] = [np.abs(df['energies'][i+1] - df['energies'][i])\\\n",
    "                    for i in range(len(df['energies'])-1)] + [np.nan]\n",
    "\n",
    "fig = plt.figure()\n",
    "fig.set_dpi(300)\n",
    "ax = plt.gca()\n",
    "plt.plot(df['ecutwfcs'], df['d_energies'], marker='o')\n",
    "ax.axhline(0.001)\n",
    "plt.xlabel('ecutwfc (Ry)')\n",
    "plt.ylabel('Change in Energy (eV)')\n",
    "plt.show()\n",
    "plt.close()"
   ]
  }
 ],
 "metadata": {
  "kernelspec": {
   "display_name": "Python 3",
   "language": "python",
   "name": "python3"
  },
  "language_info": {
   "codemirror_mode": {
    "name": "ipython",
    "version": 3
   },
   "file_extension": ".py",
   "mimetype": "text/x-python",
   "name": "python",
   "nbconvert_exporter": "python",
   "pygments_lexer": "ipython3",
   "version": "3.6.5"
  }
 },
 "nbformat": 4,
 "nbformat_minor": 2
}
