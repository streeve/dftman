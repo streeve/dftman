{
 "cells": [
  {
   "cell_type": "markdown",
   "metadata": {
    "extensions": {
     "jupyter_dashboards": {
      "version": 1,
      "views": {
       "grid_default": {
        "col": 0,
        "height": 4,
        "hidden": false,
        "row": 0,
        "width": 4
       },
       "report_default": {
        "hidden": false
       }
      }
     }
    }
   },
   "source": [
    "# DFT Manager\n",
    "---"
   ]
  },
  {
   "cell_type": "code",
   "execution_count": 1,
   "metadata": {},
   "outputs": [],
   "source": [
    "# TODO: get everything from git\n",
    "# TODO: implement project reset (i.e. delete / trash all databases + files except for notebook(s))\n",
    "# TODO: implement tool dropdown to choose which notebook to initialize a new project with\n",
    "# TODO: transition to a tabbed interface with different functions in different tabs (create, delete, duplicate)\n",
    "#           this shold allow for cleaner code and more options\n",
    "# TODO: move all loading functions and shit to a python script and use %run magic"
   ]
  },
  {
   "cell_type": "code",
   "execution_count": 24,
   "metadata": {
    "extensions": {
     "jupyter_dashboards": {
      "version": 1,
      "views": {
       "grid_default": {
        "col": 4,
        "height": 4,
        "hidden": false,
        "row": 0,
        "width": null
       },
       "report_default": {
        "hidden": false
       }
      }
     }
    }
   },
   "outputs": [],
   "source": [
    "import shutil\n",
    "import uuid\n",
    "import time\n",
    "import getpass\n",
    "import socket\n",
    "import json\n",
    "import os\n",
    "\n",
    "import pathlib\n",
    "\n",
    "import qgrid\n",
    "\n",
    "import pandas as pd\n",
    "\n",
    "from ipywidgets import Button, Text, Dropdown, HBox, VBox\n",
    "from IPython.display import clear_output, display\n",
    "from tinydb import *\n",
    "\n",
    "qgrid.enable()"
   ]
  },
  {
   "cell_type": "code",
   "execution_count": 25,
   "metadata": {
    "extensions": {
     "jupyter_dashboards": {
      "version": 1,
      "views": {
       "grid_default": {
        "hidden": false
       },
       "report_default": {
        "hidden": false
       }
      }
     }
    }
   },
   "outputs": [],
   "source": [
    "INSTALL_PATH = str(pathlib.Path.cwd())  # determine where dftman is installed\n",
    "\n",
    "GLOBAL_LIB_PATH = '/apps/dftman/dev/lib'\n",
    "LOCAL_LIB_PATH = 'lib'\n",
    "\n",
    "GLOBAL_BIN_PATH = '/apps/dftman/dev/bin'\n",
    "\n",
    "LOCAL_SRC_PATH = 'src'\n",
    "\n",
    "PROJECTS_TABLE_PATH = 'projects.json'\n",
    "\n",
    "PROJECTS_PATH = 'projects'\n",
    "\n",
    "DEFAULT_TOOL = 'default.ipynb'\n",
    "DEFAULT_TOOLS = [None, 'default.ipynb']"
   ]
  },
  {
   "cell_type": "code",
   "execution_count": 26,
   "metadata": {
    "extensions": {
     "jupyter_dashboards": {
      "version": 1,
      "views": {
       "grid_default": {
        "hidden": false
       },
       "report_default": {
        "hidden": false
       }
      }
     }
    }
   },
   "outputs": [],
   "source": [
    "def load_projects(table_path=PROJECTS_TABLE_PATH, as_df=False):\n",
    "    '''\n",
    "    Read the projects table into (probably) a\n",
    "        list of dictionaries\n",
    "    '''\n",
    "    if os.path.exists(table_path):\n",
    "        with open(table_path, 'r') as f:\n",
    "            projects = json.load(f)\n",
    "    else:\n",
    "        projects = []\n",
    "    if as_df:\n",
    "        projects = pd.DataFrame(projects)\n",
    "    return projects\n",
    "\n",
    "def write_projects(projects, table_path=PROJECTS_TABLE_PATH):\n",
    "    '''\n",
    "    Dump what should be a list of dictionaries into the\n",
    "        projects table\n",
    "    '''\n",
    "    if isinstance(projects, pd.DataFrame):\n",
    "        projects = projects.to_dict('records')\n",
    "    with open(table_path, 'w') as f:\n",
    "        json.dump(projects, f)\n",
    "\n",
    "def install_libs():\n",
    "    '''\n",
    "    Install all available versions of dftman librar(y/ies)\n",
    "    Currently copies library files from global LIB_PATH to\n",
    "        the local 'lib' directory\n",
    "    '''\n",
    "    # install / update library files\n",
    "    if pathlib.Path(LOCAL_SRC_PATH).exists():  # src is only in dev, lib already present\n",
    "        print('Not installing libs, already in dev!')\n",
    "        return\n",
    "    \n",
    "    locallib = pathlib.Path(LOCAL_LIB_PATH)\n",
    "    globallib = pathlib.Path(GLOBAL_LIB_PATH)\n",
    "    \n",
    "    # create local lib directory if necessary\n",
    "    if not locallib.exists():\n",
    "        locallib.mkdir()\n",
    "    \n",
    "    # scan globallib and add any missing softlinks\n",
    "    for f in globallib.iterdir():\n",
    "        dst = locallib / f.name\n",
    "        if not dst in locallib.iterdir():\n",
    "            dst.symlink_to(f)\n",
    "\n",
    "def add_project(_):\n",
    "    '''\n",
    "    Add a new project by adding a project entry to the database,\n",
    "        creating the project directory, and copying the DEFAULT_TOOL\n",
    "        to the project directory\n",
    "    :param name_field: Jupyter widget for name insertion\n",
    "    '''\n",
    "    name = name_field.value\n",
    "    \n",
    "    project_path = pathlib.Path(PROJECTS_PATH) / '{}'.format(name)\n",
    "    tool_source = pathlib.Path(GLOBAL_BIN_PATH) / DEFAULT_TOOL\n",
    "    tool_dest = project_path / '{}.ipynb'.format(name)\n",
    "    \n",
    "    path_link = '<a href=\"{}\" target=\"_blank\">{}</a>'.format(project_path, project_path)\n",
    "    tool_link = '<a href=\"{}\" target=\"_blank\">Installed Tool</a>'.format(tool_dest)\n",
    "    \n",
    "    project_dict = {\n",
    "        'Name': str(name),\n",
    "        'Path': str(path_link),\n",
    "        'Link': str(tool_link),\n",
    "        'Creation Time': time.asctime(time.gmtime()),  # UTC creation time\n",
    "        '_path': str(project_path),\n",
    "        '_tool': str(tool_dest)\n",
    "    }\n",
    "    \n",
    "    # load projects table\n",
    "    projects_list = load_projects(as_df=False)\n",
    "    # add project\n",
    "    projects_list.append(project_dict)\n",
    "    # write new projects table\n",
    "    write_projects(projects_list)\n",
    "        \n",
    "    # make directories\n",
    "    project_path.mkdir(parents=True)\n",
    "    # copy files\n",
    "    shutil.copy(str(tool_source), str(tool_dest))\n",
    "    \n",
    "    # show projects\n",
    "    show_projects()\n",
    "    \n",
    "def delete_project(_):\n",
    "    '''\n",
    "    Delete a project by adding finding and deleting the project from\n",
    "        the database and removing the project directory tree\n",
    "    :param name_field: Jupyter widget for name insertion\n",
    "    '''\n",
    "    name = name_field.value\n",
    "    \n",
    "    # load projects, find project, and remove project\n",
    "    #     from the projects table\n",
    "    projects_list = load_projects(as_df=False)\n",
    "    for i, project in enumerate(projects_list):\n",
    "        if project['Name'] == name:\n",
    "            deleted_project = projects_list.pop(i)\n",
    "    \n",
    "    # remove project directory\n",
    "    shutil.rmtree(deleted_project['_path'])\n",
    "    write_projects(projects_list)\n",
    "    \n",
    "    show_projects()\n",
    "\n",
    "# TODO: implement project duplication\n",
    "def duplicate_project(_):\n",
    "    og_name = name_field.value\n",
    "    dup_name = duplicate_field.value\n",
    "    \n",
    "    projects_df = load_projects(as_df=True)\n",
    "    og_project = projects_df[projects_df.Name == og_name].to_dict('records')[0]\n",
    "    og_path = pathlib.Path(og_project['_path'])\n",
    "    og_tool = pathlib.Path(og_project['_tool'])\n",
    "    \n",
    "    # TODO: rename all appropriate files from og_tool with the dup_name\n",
    "    dup_path = pathlib.Path(PROJECTS_PATH) / '{}'.format(dup_name)\n",
    "    dup_tool = dup_path / '{}.ipynb'.format(dup_name)\n",
    "    shutil.copytree(og_path, dup_path)\n",
    "    shutil.move(dup_path / og_tool.name, dup_tool)\n",
    "    \n",
    "    path_link = '<a href=\"{}\" target=\"_blank\">{}</a>'.format(dup_path, dup_path)\n",
    "    tool_link = '<a href=\"{}\" target=\"_blank\">Installed Tool</a>'.format(dup_tool)\n",
    "    \n",
    "    project_dict = {\n",
    "        'Name': str(dup_name),\n",
    "        'Path': str(path_link),\n",
    "        'Link': str(tool_link),\n",
    "        'Creation Time': time.asctime(time.gmtime()),  # UTC creation time\n",
    "        '_path': str(dup_path),\n",
    "        '_tool': str(dup_tool)\n",
    "    }\n",
    "    \n",
    "    # load projects table\n",
    "    projects_list = load_projects(as_df=False)\n",
    "    # add project\n",
    "    projects_list.append(project_dict)\n",
    "    # write new projects table\n",
    "    write_projects(projects_list)\n",
    "    \n",
    "    # show projects\n",
    "    show_projects()"
   ]
  },
  {
   "cell_type": "code",
   "execution_count": 27,
   "metadata": {
    "extensions": {
     "jupyter_dashboards": {
      "version": 1,
      "views": {
       "grid_default": {
        "hidden": false
       },
       "report_default": {
        "hidden": false
       }
      }
     }
    }
   },
   "outputs": [],
   "source": [
    "add_button = Button(\n",
    "                description='Add Project',\n",
    "                icon='plus',\n",
    "                tooltip='Add a New Project',\n",
    "                button_style='success',\n",
    "                disabled=True\n",
    "            )\n",
    "\n",
    "delete_button = Button(\n",
    "                description='Delete Project',\n",
    "                icon='minus',\n",
    "                tooltip='Delete Project and its Files',\n",
    "                button_style='danger',\n",
    "                disabled=True\n",
    "            )\n",
    "duplicate_button = Button(\n",
    "                    description='Duplicate Project',\n",
    "                    icon='plus',\n",
    "                    tooltip='Duplicate Project and its Files',\n",
    "                    button_style='info',\n",
    "                    disabled=True\n",
    "            )\n",
    "tool_dropdown = Dropdown(\n",
    "                options=DEFAULT_TOOLS,\n",
    "                value=None,\n",
    "                description='Tool',\n",
    "                disabled=False,\n",
    "            )\n",
    "style = {'description_width': 'initial'}\n",
    "name_field = Text(description='Project Name', style=style)\n",
    "duplicate_field = Text(description='Duplicate Name', style=style)"
   ]
  },
  {
   "cell_type": "code",
   "execution_count": 28,
   "metadata": {},
   "outputs": [],
   "source": [
    "def project_name(change):\n",
    "    '''\n",
    "    Callback when the name_field changes\n",
    "    When the name changes, should check if the project\n",
    "        exists and enable / disable Add / Delete buttons\n",
    "        as necessary\n",
    "    :param change: ipywidget state change dictionary\n",
    "    '''\n",
    "    name = change['new']\n",
    "    \n",
    "    projects_df = load_projects(as_df=True)\n",
    "    \n",
    "    if not projects_df.empty: \n",
    "        if name and name in projects_df['Name'].tolist():\n",
    "            add_button.disabled = True\n",
    "            delete_button.disabled = False\n",
    "            duplicate_field.value = '{}_copy'.format(name)\n",
    "            if duplicate_field.value in projects_df['Name'].tolist():\n",
    "                duplicate_button.disabled = True\n",
    "            else:\n",
    "                duplicate_button.disabled  = False\n",
    "        elif name:\n",
    "            add_button.disabled = False\n",
    "            delete_button.disabled = True\n",
    "            duplicate_button.disabled = True\n",
    "        else:\n",
    "            add_button.disabled = True\n",
    "            delete_button.disabled = True\n",
    "            duplicate_button.disabled = True\n",
    "    else:\n",
    "        if name:\n",
    "            add_button.disabled = False\n",
    "        else:\n",
    "            add_button_disabled = True\n",
    "            delete_button_disabled = True\n",
    "            duplicate_button_disabled = True\n",
    "\n",
    "def duplicate_name(change):\n",
    "    '''\n",
    "    Callback when the name_field changes\n",
    "    :param change: ipywidget state change dictionary\n",
    "    '''\n",
    "    name = change['new']\n",
    "    \n",
    "    projects_df = load_projects(as_df=True)\n",
    "    \n",
    "    if not projects_df.empty: \n",
    "        if name in projects_df['Name'].tolist():\n",
    "            duplicate_button.disabled  = True\n",
    "        elif name:\n",
    "            duplicate_button.disabled = False\n",
    "        else:\n",
    "            duplicate_button.disabled = True\n",
    "            \n",
    "def select_cb(event, w):\n",
    "    '''\n",
    "    Callback when a different row of the qgrid is selected\n",
    "    This will change the name in field_name to the appropriate\n",
    "        name in the table, and project_name will handle the rest\n",
    "    :param event: qgrid state change event dictionary\n",
    "    :w: qgrid status information dictionary\n",
    "    '''\n",
    "    ind = event['new'][0]\n",
    "    \n",
    "    projects_df = load_projects(as_df=True)\n",
    "    \n",
    "    # find name\n",
    "    name = projects_df.iloc[ind].Name\n",
    "    name_field.value = name    \n",
    "    \n",
    "def show_projects():\n",
    "    '''\n",
    "    Show the projects and their metadata as listed in the\n",
    "        database using a qgrid grid widget\n",
    "    '''\n",
    "    show_columns = ['Name', 'Link', 'Path', 'Creation Time']\n",
    "    clear_output()\n",
    "\n",
    "    projects_df = load_projects(as_df=True)\n",
    "    if not projects_df.empty:\n",
    "        projects_df = projects_df[show_columns]\n",
    "    \n",
    "    if projects_df.empty:\n",
    "        print('No projects exist. Make a project first.')\n",
    "        display(qgrid.show_grid(projects_df,\n",
    "                                grid_options={'editable': False}))\n",
    "    else:\n",
    "        qgrid.on('selection_changed', select_cb)\n",
    "        display(qgrid.show_grid(projects_df.set_index('Name'),\n",
    "                                grid_options={'editable': False}))\n",
    "\n",
    "    add_button.on_click(callback=add_project)\n",
    "    delete_button.on_click(callback=delete_project)\n",
    "    duplicate_button.on_click(callback=duplicate_project)\n",
    "    \n",
    "    name_field.value = ''\n",
    "    name_field.observe(project_name, names='value')\n",
    "    \n",
    "    duplicate_field.value = ''\n",
    "    duplicate_field.observe(duplicate_name, names='value')\n",
    "        \n",
    "    \n",
    "    display(\n",
    "        VBox(\n",
    "            [HBox([name_field, add_button, delete_button]),\n",
    "             HBox([duplicate_field, duplicate_button])]\n",
    "            )\n",
    "           )\n",
    "    \n",
    "    return"
   ]
  },
  {
   "cell_type": "code",
   "execution_count": 29,
   "metadata": {
    "extensions": {
     "jupyter_dashboards": {
      "version": 1,
      "views": {
       "grid_default": {
        "hidden": false
       },
       "report_default": {
        "hidden": false
       }
      }
     }
    },
    "scrolled": true
   },
   "outputs": [
    {
     "name": "stdout",
     "output_type": "stream",
     "text": [
      "Not installing libs, already in dev!\n"
     ]
    }
   ],
   "source": [
    "install_libs()"
   ]
  },
  {
   "cell_type": "code",
   "execution_count": 30,
   "metadata": {
    "extensions": {
     "jupyter_dashboards": {
      "version": 1,
      "views": {
       "grid_default": {
        "col": 0,
        "height": 4,
        "hidden": false,
        "row": 4,
        "width": null
       },
       "report_default": {
        "hidden": false
       }
      }
     }
    }
   },
   "outputs": [
    {
     "name": "stdout",
     "output_type": "stream",
     "text": [
      "No projects exist. Make a project first.\n"
     ]
    },
    {
     "data": {
      "application/vnd.jupyter.widget-view+json": {
       "model_id": "be99b3fc81ff456697f9e46b44162890",
       "version_major": 2,
       "version_minor": 0
      },
      "text/html": [
       "<p>Failed to display Jupyter Widget of type <code>QgridWidget</code>.</p>\n",
       "<p>\n",
       "  If you're reading this message in the Jupyter Notebook or JupyterLab Notebook, it may mean\n",
       "  that the widgets JavaScript is still loading. If this message persists, it\n",
       "  likely means that the widgets JavaScript library is either not installed or\n",
       "  not enabled. See the <a href=\"https://ipywidgets.readthedocs.io/en/stable/user_install.html\">Jupyter\n",
       "  Widgets Documentation</a> for setup instructions.\n",
       "</p>\n",
       "<p>\n",
       "  If you're reading this message in another frontend (for example, a static\n",
       "  rendering on GitHub or <a href=\"https://nbviewer.jupyter.org/\">NBViewer</a>),\n",
       "  it may mean that your frontend doesn't currently support widgets.\n",
       "</p>\n"
      ],
      "text/plain": [
       "QgridWidget(grid_options={'fullWidthRows': True, 'syncColumnCellResize': True, 'forceFitColumns': True, 'defaultColumnWidth': 150, 'rowHeight': 28, 'enableColumnReorder': False, 'enableTextSelectionOnCells': True, 'editable': False, 'autoEdit': False, 'explicitInitialization': True, 'maxVisibleRows': 15, 'minVisibleRows': 8, 'sortable': True, 'filterable': True, 'highlightSelectedCell': False, 'highlightSelectedRow': True}, id='2b57466d-f90b-4bd2-8b13-2268b8ec4e3c', precision=5)"
      ]
     },
     "metadata": {},
     "output_type": "display_data"
    },
    {
     "data": {
      "application/vnd.jupyter.widget-view+json": {
       "model_id": "80196012dfb540cf85c72b7f42cfce71",
       "version_major": 2,
       "version_minor": 0
      },
      "text/html": [
       "<p>Failed to display Jupyter Widget of type <code>VBox</code>.</p>\n",
       "<p>\n",
       "  If you're reading this message in the Jupyter Notebook or JupyterLab Notebook, it may mean\n",
       "  that the widgets JavaScript is still loading. If this message persists, it\n",
       "  likely means that the widgets JavaScript library is either not installed or\n",
       "  not enabled. See the <a href=\"https://ipywidgets.readthedocs.io/en/stable/user_install.html\">Jupyter\n",
       "  Widgets Documentation</a> for setup instructions.\n",
       "</p>\n",
       "<p>\n",
       "  If you're reading this message in another frontend (for example, a static\n",
       "  rendering on GitHub or <a href=\"https://nbviewer.jupyter.org/\">NBViewer</a>),\n",
       "  it may mean that your frontend doesn't currently support widgets.\n",
       "</p>\n"
      ],
      "text/plain": [
       "VBox(children=(HBox(children=(Text(value='', description='Project Name', style=DescriptionStyle(description_width='initial')), Dropdown(description='Tool', options=(None, 'default.ipynb'), value=None), Button(button_style='success', description='Add Project', disabled=True, icon='plus', style=ButtonStyle(), tooltip='Add a New Project'), Button(button_style='danger', description='Delete Project', disabled=True, icon='minus', style=ButtonStyle(), tooltip='Delete Project and its Files'))), HBox(children=(Text(value='', description='Duplicate Name', style=DescriptionStyle(description_width='initial')), Button(button_style='info', description='Duplicate Project', disabled=True, icon='plus', style=ButtonStyle(), tooltip='Duplicate Project and its Files')))))"
      ]
     },
     "metadata": {},
     "output_type": "display_data"
    }
   ],
   "source": [
    "show_projects()"
   ]
  },
  {
   "cell_type": "code",
   "execution_count": 31,
   "metadata": {},
   "outputs": [],
   "source": [
    "ls projects/"
   ]
  },
  {
   "cell_type": "code",
   "execution_count": 10,
   "metadata": {},
   "outputs": [
    {
     "data": {
      "text/plain": [
       "[]"
      ]
     },
     "execution_count": 10,
     "metadata": {},
     "output_type": "execute_result"
    }
   ],
   "source": [
    "load_projects()"
   ]
  },
  {
   "cell_type": "code",
   "execution_count": null,
   "metadata": {},
   "outputs": [],
   "source": []
  }
 ],
 "metadata": {
  "extensions": {
   "jupyter_dashboards": {
    "activeView": "report_default",
    "version": 1,
    "views": {
     "grid_default": {
      "cellMargin": 10,
      "defaultCellHeight": 20,
      "maxColumns": 12,
      "name": "grid",
      "type": "grid"
     },
     "report_default": {
      "name": "report",
      "type": "report"
     }
    }
   }
  },
  "kernelspec": {
   "display_name": "Python 3",
   "language": "python",
   "name": "python3"
  },
  "language_info": {
   "codemirror_mode": {
    "name": "ipython",
    "version": 3
   },
   "file_extension": ".py",
   "mimetype": "text/x-python",
   "name": "python",
   "nbconvert_exporter": "python",
   "pygments_lexer": "ipython3",
   "version": "3.6.5"
  },
  "tool": false
 },
 "nbformat": 4,
 "nbformat_minor": 2
}
