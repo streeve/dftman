{
 "cells": [
  {
   "cell_type": "markdown",
   "metadata": {
    "extensions": {
     "jupyter_dashboards": {
      "version": 1,
      "views": {
       "grid_default": {
        "col": 0,
        "height": 4,
        "hidden": false,
        "row": 0,
        "width": 4
       },
       "report_default": {
        "hidden": false
       }
      }
     }
    }
   },
   "source": [
    "# DFT Manager\n",
    "---\n",
    "### Type in the name of your project, then click \"Add Project\" to create it. If it doesn't appear in the directory, reload the page and it should.\n",
    "\n",
    "### To remove a project, select a project entry in the directory or type its name in the name box. Then, click \"Remove Project\" to remove the project and all its associated data.\n",
    "\n",
    "# DEV NOTE:  Run all cells and the directory will appear at the bottom"
   ]
  },
  {
   "cell_type": "code",
   "execution_count": 1,
   "metadata": {
    "extensions": {
     "jupyter_dashboards": {
      "version": 1,
      "views": {
       "grid_default": {
        "col": 4,
        "height": 4,
        "hidden": false,
        "row": 0,
        "width": null
       },
       "report_default": {
        "hidden": false
       }
      }
     }
    }
   },
   "outputs": [],
   "source": [
    "import shutil\n",
    "import uuid\n",
    "import time\n",
    "import getpass\n",
    "import socket\n",
    "\n",
    "import pathlib as pl\n",
    "\n",
    "import qgrid\n",
    "\n",
    "import pandas as pd\n",
    "\n",
    "from ipywidgets import Button, Text, HBox\n",
    "from IPython.display import clear_output, display\n",
    "from tinydb import *\n",
    "\n",
    "qgrid.enable()"
   ]
  },
  {
   "cell_type": "code",
   "execution_count": 2,
   "metadata": {
    "extensions": {
     "jupyter_dashboards": {
      "version": 1,
      "views": {
       "grid_default": {
        "hidden": false
       },
       "report_default": {
        "hidden": false
       }
      }
     }
    }
   },
   "outputs": [],
   "source": [
    "INSTALL_PATH = str(pl.Path.cwd())  # determine where dftman is installed\n",
    "\n",
    "GLOBAL_LIB_PATH = '/apps/dftman/dev/lib'\n",
    "LOCAL_LIB_PATH = 'lib'\n",
    "\n",
    "GLOBAL_BIN_PATH = '/apps/dftman/dev/bin'\n",
    "\n",
    "LOCAL_SRC_PATH = 'src'\n",
    "\n",
    "DB_PATH = 'dftman.json'\n",
    "\n",
    "PROJECTS_PATH = 'projects'\n",
    "PROJECTS_TABLE = 'projects'\n",
    "\n",
    "DEFAULT_TOOL = 'default.ipynb'"
   ]
  },
  {
   "cell_type": "code",
   "execution_count": 3,
   "metadata": {
    "extensions": {
     "jupyter_dashboards": {
      "version": 1,
      "views": {
       "grid_default": {
        "hidden": false
       },
       "report_default": {
        "hidden": false
       }
      }
     }
    }
   },
   "outputs": [],
   "source": [
    "def install_libs():\n",
    "    '''\n",
    "    Install all available versions of dftman librar(y/ies)\n",
    "    Currently copies library files from global LIB_PATH to\n",
    "        the local 'lib' directory\n",
    "    '''\n",
    "    # install / update library files\n",
    "    if pl.Path(LOCAL_SRC_PATH).exists():  # src is only in dev, lib already present\n",
    "        print('Not installing libs, already in dev!')\n",
    "        return\n",
    "    \n",
    "    locallib = pl.Path(LOCAL_LIB_PATH)\n",
    "    globallib = pl.Path(GLOBAL_LIB_PATH)\n",
    "    \n",
    "    # create local lib directory if necessary\n",
    "    if not locallib.exists():\n",
    "        locallib.mkdir()\n",
    "    \n",
    "    # scan globallib and add any missing softlinks\n",
    "    for f in globallib.iterdir():\n",
    "        dst = locallib / f.name\n",
    "        if not dst in locallib.iterdir():\n",
    "            dst.symlink_to(f)\n",
    "\n",
    "def add_project(_):\n",
    "    '''\n",
    "    Add a new project by adding a project entry to the database,\n",
    "        creating the project directory, and copying the DEFAULT_TOOL\n",
    "        to the project directory\n",
    "    :param name_field: Jupyter widget for name insertion\n",
    "    '''\n",
    "    name = name_field.value\n",
    "    # uuid = uuid.uuid4().hex  # not sure we need a uuid for the projects\n",
    "    \n",
    "    project_path = pl.Path(PROJECTS_PATH) / '{}'.format(name)\n",
    "    tool_source = pl.Path(GLOBAL_BIN_PATH) / DEFAULT_TOOL\n",
    "    tool_dest = project_path / '{}.ipynb'.format(name)\n",
    "    \n",
    "    tool_link = '<a href=\"{}\" target=\"_blank\">Installed Tool</a>'.format(tool_dest)\n",
    "    \n",
    "    # load database and projects table\n",
    "    db = TinyDB(DB_PATH)\n",
    "    projects_table = db.table('projects')\n",
    "    \n",
    "    # add project entry to projects table\n",
    "    projects_table.insert({\n",
    "        'name': str(name),\n",
    "        'path': str(project_path),\n",
    "        'link': str(tool_link),\n",
    "        'creation_time': time.asctime(time.gmtime()),  # UTC creation time\n",
    "        'creation_user': getpass.getuser(),\n",
    "        # 'creation_host': socket.gethostname()\n",
    "    })\n",
    "        \n",
    "    # make directories\n",
    "    project_path.mkdir(parents=True)\n",
    "    # copy files\n",
    "    # print('copying {} -> {}'.format(tool_source, tool_dest))\n",
    "    shutil.copy(str(tool_source), str(tool_dest))\n",
    "    # show projects\n",
    "    show_projects()\n",
    "    \n",
    "def delete_project(_):\n",
    "    '''\n",
    "    Delete a project by adding finding and deleting the project from\n",
    "        the database and removing the project directory tree\n",
    "    :param name_field: Jupyter widget for name insertion\n",
    "    '''\n",
    "    name = name_field.value\n",
    "    # load database and projects table\n",
    "    db = TinyDB(DB_PATH)\n",
    "    projects_table = db.table('projects')\n",
    "    # query for project\n",
    "    query = Query()\n",
    "    project = projects_table.get(query.name == name)\n",
    "    doc_id = project.doc_id\n",
    "    # remove project directory\n",
    "    rm_path = str(pl.Path.cwd() / project['path'])\n",
    "    shutil.rmtree(rm_path)\n",
    "    # remove project document\n",
    "    projects_table.remove(doc_ids=[doc_id])\n",
    "    # purge project table\n",
    "    db.purge_table(name)\n",
    "    \n",
    "    show_projects()\n",
    "    return"
   ]
  },
  {
   "cell_type": "code",
   "execution_count": 4,
   "metadata": {
    "extensions": {
     "jupyter_dashboards": {
      "version": 1,
      "views": {
       "grid_default": {
        "hidden": false
       },
       "report_default": {
        "hidden": false
       }
      }
     }
    }
   },
   "outputs": [],
   "source": [
    "add_button = Button(\n",
    "                description='Add Project',\n",
    "                icon='plus',\n",
    "                tooltip='Add a New Project',\n",
    "                button_style='success',\n",
    "                disabled=True\n",
    "            )\n",
    "\n",
    "delete_button = Button(\n",
    "                description='Delete Project',\n",
    "                icon='minus',\n",
    "                tooltip='Delete Project and its Files',\n",
    "                button_style='danger',\n",
    "                disabled=True\n",
    "            )\n",
    "style = {'description_width': 'initial'}\n",
    "name_field = Text(description='Project Name', style=style)"
   ]
  },
  {
   "cell_type": "code",
   "execution_count": 5,
   "metadata": {
    "extensions": {
     "jupyter_dashboards": {
      "version": 1,
      "views": {
       "grid_default": {
        "hidden": false
       },
       "report_default": {
        "hidden": false
       }
      }
     }
    }
   },
   "outputs": [],
   "source": [
    "def project_name(change):\n",
    "    '''\n",
    "    Callback when the name_field changes\n",
    "    When the name changes, should check if the project\n",
    "        exists and enable / disable Add / Delete buttons\n",
    "        as necessary\n",
    "    :param change: ipywidget state change dictionary\n",
    "    '''\n",
    "    name = change['new']\n",
    "    \n",
    "    # load database and projects table\n",
    "    db = TinyDB(DB_PATH)\n",
    "    projects_table = db.table('projects')\n",
    "    # query for project\n",
    "    query = Query()\n",
    "    result = projects_table.search(query.name == name)\n",
    "    \n",
    "    if result:\n",
    "        add_button.disabled = True\n",
    "        delete_button.disabled = False\n",
    "    else:\n",
    "        add_button.disabled = False\n",
    "        delete_button.disabled = True\n",
    "\n",
    "def select_cb(event, w):\n",
    "    '''\n",
    "    Callback when a different row of the qgrid is selected\n",
    "    This will change the name in field_name to the appropriate\n",
    "        name in the table, and project_name will handle the rest\n",
    "    :param event: qgrid state change event dictionary\n",
    "    :w: qgrid status information dictionary\n",
    "    '''\n",
    "    ind = event['new'][0]\n",
    "    # load database and projects table\n",
    "    db = TinyDB(DB_PATH)\n",
    "    projects_table = db.table('projects') \n",
    "    projects = projects_table.all()\n",
    "    df = pd.DataFrame(projects).set_index('name')\n",
    "    # find name\n",
    "    name = df.iloc[ind].name\n",
    "    name_field.value = name    \n",
    "    \n",
    "def show_projects():\n",
    "    '''\n",
    "    Show the projects and their metadata as listed in the\n",
    "        database using a qgrid grid widget\n",
    "    '''\n",
    "    clear_output()\n",
    "    # load database and projects table\n",
    "    db = TinyDB(DB_PATH)\n",
    "    projects_table = db.table('projects')\n",
    "    projects = projects_table.all()\n",
    "    # display message if no projects\n",
    "    if len(projects) == 0:\n",
    "        print('No projects exist. Make a project first.')\n",
    "        display(qgrid.show_grid(pd.DataFrame([]), grid_options={'editable': False}))\n",
    "    else:\n",
    "        df = pd.DataFrame(projects).set_index('name')\n",
    "        display(qgrid.show_grid(df, grid_options={'editable': False}))\n",
    "        qgrid.on('selection_changed', select_cb)\n",
    "\n",
    "    # add_button.on_click(callback=add_project)\n",
    "    add_button.on_click(callback=add_project)\n",
    "    delete_button.on_click(callback=delete_project)\n",
    "    \n",
    "    name_field.value = ''\n",
    "    name_field.observe(project_name, names='value')\n",
    "        \n",
    "    display(HBox([name_field, add_button, delete_button]))\n",
    "    \n",
    "    return"
   ]
  },
  {
   "cell_type": "code",
   "execution_count": 6,
   "metadata": {
    "extensions": {
     "jupyter_dashboards": {
      "version": 1,
      "views": {
       "grid_default": {
        "hidden": false
       },
       "report_default": {
        "hidden": false
       }
      }
     }
    }
   },
   "outputs": [
    {
     "name": "stdout",
     "output_type": "stream",
     "text": [
      "Not installing libs, already in dev!\n"
     ]
    }
   ],
   "source": [
    "install_libs()"
   ]
  },
  {
   "cell_type": "code",
   "execution_count": 7,
   "metadata": {
    "extensions": {
     "jupyter_dashboards": {
      "version": 1,
      "views": {
       "grid_default": {
        "col": 0,
        "height": 4,
        "hidden": false,
        "row": 4,
        "width": null
       },
       "report_default": {
        "hidden": false
       }
      }
     }
    }
   },
   "outputs": [
    {
     "data": {
      "application/vnd.jupyter.widget-view+json": {
       "model_id": "d569250f27a640b9981e922b1e7cd419",
       "version_major": 2,
       "version_minor": 0
      },
      "text/html": [
       "<p>Failed to display Jupyter Widget of type <code>QgridWidget</code>.</p>\n",
       "<p>\n",
       "  If you're reading this message in the Jupyter Notebook or JupyterLab Notebook, it may mean\n",
       "  that the widgets JavaScript is still loading. If this message persists, it\n",
       "  likely means that the widgets JavaScript library is either not installed or\n",
       "  not enabled. See the <a href=\"https://ipywidgets.readthedocs.io/en/stable/user_install.html\">Jupyter\n",
       "  Widgets Documentation</a> for setup instructions.\n",
       "</p>\n",
       "<p>\n",
       "  If you're reading this message in another frontend (for example, a static\n",
       "  rendering on GitHub or <a href=\"https://nbviewer.jupyter.org/\">NBViewer</a>),\n",
       "  it may mean that your frontend doesn't currently support widgets.\n",
       "</p>\n"
      ],
      "text/plain": [
       "QgridWidget(grid_options={'fullWidthRows': True, 'syncColumnCellResize': True, 'forceFitColumns': True, 'defaultColumnWidth': 150, 'rowHeight': 28, 'enableColumnReorder': False, 'enableTextSelectionOnCells': True, 'editable': False, 'autoEdit': False, 'explicitInitialization': True, 'maxVisibleRows': 15, 'minVisibleRows': 8, 'sortable': True, 'filterable': True, 'highlightSelectedCell': False, 'highlightSelectedRow': True}, id='63324267-750b-4afe-b7bc-5e30d5191af7', precision=5)"
      ]
     },
     "metadata": {},
     "output_type": "display_data"
    },
    {
     "data": {
      "application/vnd.jupyter.widget-view+json": {
       "model_id": "c17cfde2050f417b87dcfd16c898a822",
       "version_major": 2,
       "version_minor": 0
      },
      "text/html": [
       "<p>Failed to display Jupyter Widget of type <code>HBox</code>.</p>\n",
       "<p>\n",
       "  If you're reading this message in the Jupyter Notebook or JupyterLab Notebook, it may mean\n",
       "  that the widgets JavaScript is still loading. If this message persists, it\n",
       "  likely means that the widgets JavaScript library is either not installed or\n",
       "  not enabled. See the <a href=\"https://ipywidgets.readthedocs.io/en/stable/user_install.html\">Jupyter\n",
       "  Widgets Documentation</a> for setup instructions.\n",
       "</p>\n",
       "<p>\n",
       "  If you're reading this message in another frontend (for example, a static\n",
       "  rendering on GitHub or <a href=\"https://nbviewer.jupyter.org/\">NBViewer</a>),\n",
       "  it may mean that your frontend doesn't currently support widgets.\n",
       "</p>\n"
      ],
      "text/plain": [
       "HBox(children=(Text(value='', description='Project Name', style=DescriptionStyle(description_width='initial')), Button(button_style='success', description='Add Project', icon='plus', style=ButtonStyle(), tooltip='Add a New Project'), Button(button_style='danger', description='Delete Project', disabled=True, icon='minus', style=ButtonStyle(), tooltip='Delete Project and its Files')))"
      ]
     },
     "metadata": {},
     "output_type": "display_data"
    }
   ],
   "source": [
    "show_projects()"
   ]
  },
  {
   "cell_type": "code",
   "execution_count": null,
   "metadata": {},
   "outputs": [],
   "source": []
  }
 ],
 "metadata": {
  "extensions": {
   "jupyter_dashboards": {
    "activeView": "report_default",
    "version": 1,
    "views": {
     "grid_default": {
      "cellMargin": 10,
      "defaultCellHeight": 20,
      "maxColumns": 12,
      "name": "grid",
      "type": "grid"
     },
     "report_default": {
      "name": "report",
      "type": "report"
     }
    }
   }
  },
  "kernelspec": {
   "display_name": "Python 3",
   "language": "python",
   "name": "python3"
  },
  "language_info": {
   "codemirror_mode": {
    "name": "ipython",
    "version": 3
   },
   "file_extension": ".py",
   "mimetype": "text/x-python",
   "name": "python",
   "nbconvert_exporter": "python",
   "pygments_lexer": "ipython3",
   "version": "3.6.6"
  },
  "tool": false
 },
 "nbformat": 4,
 "nbformat_minor": 2
}
